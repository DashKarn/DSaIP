{
 "cells": [
  {
   "cell_type": "code",
   "execution_count": 2,
   "metadata": {
    "collapsed": true
   },
   "outputs": [],
   "source": [
    "import numpy as np\n",
    "import matplotlib.pyplot as plt\n",
    "%matplotlib inline"
   ]
  },
  {
   "cell_type": "code",
   "execution_count": 26,
   "metadata": {
    "collapsed": true
   },
   "outputs": [],
   "source": [
    "letters_shapes = [['111111',\n",
    "          '001100',\n",
    "          '001100',\n",
    "          '001100',\n",
    "          '001100',\n",
    "          '001100'],\n",
    "         ['100001',\n",
    "          '010010',\n",
    "          '001100',\n",
    "          '001100',\n",
    "          '010010',\n",
    "          '100001'],\n",
    "         ['001100',\n",
    "          '010010',\n",
    "          '100001',\n",
    "          '100001',\n",
    "          '010010',\n",
    "          '001100'],\n",
    "         ['111111',\n",
    "          '100001',\n",
    "          '100001',\n",
    "          '100001',\n",
    "          '100001',\n",
    "          '111111'],\n",
    "         ['001100',\n",
    "          '001100',\n",
    "          '110011',\n",
    "          '110011',\n",
    "          '001100',\n",
    "          '001100']]"
   ]
  },
  {
   "cell_type": "code",
   "execution_count": 27,
   "metadata": {},
   "outputs": [
    {
     "name": "stdout",
     "output_type": "stream",
     "text": [
      "(5, 36)\n"
     ]
    }
   ],
   "source": [
    "shapes = []\n",
    "for l in letters_shapes:\n",
    "    l_list = []\n",
    "    for str_l in l:\n",
    "        str_list = list(map(int, list(str_l)))\n",
    "        l_list += str_list\n",
    "    shapes += [l_list]\n",
    "\n",
    "shapes = np.array(shapes)\n",
    "print(shapes.shape)"
   ]
  },
  {
   "cell_type": "code",
   "execution_count": 28,
   "metadata": {
    "collapsed": true
   },
   "outputs": [],
   "source": [
    "def plot_images(images):\n",
    "    shape = int(np.sqrt(images.shape[1]))\n",
    "    fig, ax1 = plt.subplots(1, len(images), figsize=(3, 3), sharex = True, sharey = True)\n",
    "    for num, im in enumerate(images):\n",
    "        ax1[num].imshow(im.reshape((shape, shape)), cmap = 'gray')\n",
    "    \n",
    "    plt.show()"
   ]
  },
  {
   "cell_type": "code",
   "execution_count": 29,
   "metadata": {},
   "outputs": [
    {
     "data": {
      "image/png": "[encoded data removed]",
      "text/plain": [
       "<Figure size 216x216 with 5 Axes>"
      ]
     },
     "metadata": {},
     "output_type": "display_data"
    }
   ],
   "source": [
    "plot_images(shapes)"
   ]
  },
  {
   "cell_type": "code",
   "execution_count": 30,
   "metadata": {
    "collapsed": true
   },
   "outputs": [],
   "source": [
    "def make_noise(images, noise_percent):\n",
    "    size = images.shape[1]\n",
    "    a = np.arange(size)\n",
    "    images_new = []\n",
    "    for image in images:\n",
    "        np.random.shuffle(a)\n",
    "        randoms = a[:int(size*noise_percent/100)]\n",
    "        image = np.array([not(i) if pos in randoms else i for pos, i in enumerate(image)])\n",
    "        images_new += [image]\n",
    "    return np.array(images_new)"
   ]
  },
  {
   "cell_type": "code",
   "execution_count": 117,
   "metadata": {},
   "outputs": [],
   "source": [
    "class Network(object):\n",
    "\n",
    "    \"\"\"\n",
    "    sdssdvfv\n",
    "    \"\"\"\n",
    "\n",
    "    def __init__(self, input_size, output_size, weight_init_fn, lr):\n",
    "\n",
    "        self.train_mode = True\n",
    "        self.input_size = input_size\n",
    "        self.output_size = output_size\n",
    "        self.wins = np.zeros(output_size)\n",
    "        self.lr = lr\n",
    "        self.epoches = 0\n",
    "        # <---------------------\n",
    "\n",
    "        self.W = weight_init_fn(output_size, input_size)\n",
    "        self.dW = np.zeros_like(self.W)\n",
    "\n",
    "    def forward(self, x):\n",
    "        \n",
    "        self.epoches += 1\n",
    "        self.x = x\n",
    "        #self.y = np.dot(self.x, self.W.T) \n",
    "        self.delta = np.sqrt(np.sum((self.x - self.W)**2, axis=1))\n",
    "\n",
    "        return np.argmin(self.delta)\n",
    "       \n",
    "\n",
    "    def step(self):\n",
    "        \n",
    "        if self.train_mode:\n",
    "        # update weight\n",
    "            self.W += self.lr * self.dW\n",
    "\n",
    "    def backward(self):\n",
    "        \n",
    "        argmin = np.argmin(self.delta*self.wins)\n",
    "        d_min = self.W[argmin]\n",
    "        self.wins[argmin] += 1\n",
    "        self.dW = np.exp(-np.sum((d_min - self.W)**2, axis=1)).reshape((1,-1)).T * (self.x - self.W)\n",
    "\n",
    "        return \n",
    "\n",
    "    def __call__(self, x):\n",
    "        return self.forward(x)\n",
    "\n",
    "    def train(self):\n",
    "        self.train_mode = True\n",
    "\n",
    "    def evaluate(self):\n",
    "        self.train_mode = False\n"
   ]
  },
  {
   "cell_type": "code",
   "execution_count": 32,
   "metadata": {
    "collapsed": true
   },
   "outputs": [],
   "source": [
    "def random_normal_weight_init(d0, d1):\n",
    "    return np.random.randn(d0, d1)\n",
    "\n",
    "def constant_weight_init(d0, d1):\n",
    "    return np.full(shape=(d0, d1), fill_value=0.15)"
   ]
  },
  {
   "cell_type": "code",
   "execution_count": 85,
   "metadata": {
    "collapsed": true
   },
   "outputs": [],
   "source": [
    "def get_test_stats(mlp, test_x):\n",
    "    mlp.evaluate()\n",
    "    test_pred = []\n",
    "\n",
    "    for t_x in test_x:\n",
    "        test_pred.append(mlp.forward(t_x))\n",
    "\n",
    "    return test_pred"
   ]
  },
  {
   "cell_type": "code",
   "execution_count": 45,
   "metadata": {
    "collapsed": true
   },
   "outputs": [],
   "source": [
    "def get_training_stats(mlp, trainx, nepochs):\n",
    "\n",
    "    objects_ls = np.arange(len(trainx))\n",
    "\n",
    "    mlp.train()\n",
    "    for e in range(nepochs):\n",
    "        np.random.shuffle(objects_ls)\n",
    "        trainx = trainx[objects_ls]\n",
    "        \n",
    "        for trx in trainx:\n",
    "            mlp.forward(trx)\n",
    "            mlp.backward()\n",
    "            mlp.step()\n",
    "            \n",
    "    mlp.evaluate()\n",
    "    return "
   ]
  },
  {
   "cell_type": "code",
   "execution_count": 121,
   "metadata": {
    "collapsed": true
   },
   "outputs": [],
   "source": [
    "mlp = Network(input_size = shapes.shape[1], \\\n",
    "          output_size = shapes.shape[0], \\\n",
    "          weight_init_fn = random_normal_weight_init, \\\n",
    "          lr=0.2)"
   ]
  },
  {
   "cell_type": "code",
   "execution_count": 122,
   "metadata": {},
   "outputs": [],
   "source": [
    "n_epochs = 15\n",
    "train_size = 3\n",
    "train_shapes = make_noise(np.repeat(shapes, train_size, axis=0), 3)\n",
    "train_answers = np.repeat([i for i in range(shapes.shape[0])], train_size)\n",
    "get_training_stats(mlp, train_shapes, n_epochs)"
   ]
  },
  {
   "cell_type": "code",
   "execution_count": 123,
   "metadata": {},
   "outputs": [
    {
     "name": "stdout",
     "output_type": "stream",
     "text": [
      "Percent of noise: 0\n",
      "Shape  0 :  [5 0 0 0 0]\n",
      "Shape  1 :  [0 0 5 0 0]\n",
      "Shape  2 :  [0 5 0 0 0]\n",
      "Shape  3 :  [0 0 0 0 5]\n",
      "Shape  4 :  [0 0 0 5 0]\n",
      "Percent of noise: 10\n",
      "Shape  0 :  [5 0 0 0 0]\n",
      "Shape  1 :  [0 0 5 0 0]\n",
      "Shape  2 :  [0 5 0 0 0]\n",
      "Shape  3 :  [0 0 0 0 5]\n",
      "Shape  4 :  [0 0 0 5 0]\n",
      "Percent of noise: 20\n",
      "Shape  0 :  [5 0 0 0 0]\n",
      "Shape  1 :  [0 0 5 0 0]\n",
      "Shape  2 :  [0 5 0 0 0]\n",
      "Shape  3 :  [0 0 0 0 5]\n",
      "Shape  4 :  [0 0 0 5 0]\n",
      "Percent of noise: 30\n",
      "Shape  0 :  [5 0 0 0 0]\n",
      "Shape  1 :  [0 0 5 0 0]\n",
      "Shape  2 :  [0 5 0 0 0]\n",
      "Shape  3 :  [0 0 0 0 5]\n",
      "Shape  4 :  [0 0 0 5 0]\n",
      "Percent of noise: 40\n",
      "Shape  0 :  [4 0 0 1 0]\n",
      "Shape  1 :  [0 1 4 0 0]\n",
      "Shape  2 :  [0 4 1 0 0]\n",
      "Shape  3 :  [0 2 0 0 3]\n",
      "Shape  4 :  [0 2 0 2 1]\n",
      "Percent of noise: 50\n",
      "Shape  0 :  [1 0 3 1 0]\n",
      "Shape  1 :  [2 1 1 1 0]\n",
      "Shape  2 :  [0 0 2 3 0]\n",
      "Shape  3 :  [0 0 2 3 0]\n",
      "Shape  4 :  [1 1 2 0 1]\n",
      "Percent of noise: 60\n",
      "Shape  0 :  [0 2 1 1 1]\n",
      "Shape  1 :  [3 0 0 1 1]\n",
      "Shape  2 :  [1 0 1 1 2]\n",
      "Shape  3 :  [0 1 1 3 0]\n",
      "Shape  4 :  [0 1 3 0 1]\n",
      "Percent of noise: 70\n",
      "Shape  0 :  [0 3 0 0 2]\n",
      "Shape  1 :  [0 0 0 3 2]\n",
      "Shape  2 :  [2 0 2 0 1]\n",
      "Shape  3 :  [0 0 4 1 0]\n",
      "Shape  4 :  [1 0 3 0 1]\n",
      "Percent of noise: 80\n",
      "Shape  0 :  [0 3 0 0 2]\n",
      "Shape  1 :  [0 0 0 5 0]\n",
      "Shape  2 :  [2 0 2 0 1]\n",
      "Shape  3 :  [2 0 1 2 0]\n",
      "Shape  4 :  [0 0 5 0 0]\n",
      "Percent of noise: 90\n",
      "Shape  0 :  [0 2 0 0 3]\n",
      "Shape  1 :  [0 0 0 5 0]\n",
      "Shape  2 :  [5 0 0 0 0]\n",
      "Shape  3 :  [1 0 4 0 0]\n",
      "Shape  4 :  [0 0 5 0 0]\n",
      "Percent of noise: 100\n",
      "Shape  0 :  [0 5 0 0 0]\n",
      "Shape  1 :  [0 0 0 5 0]\n",
      "Shape  2 :  [5 0 0 0 0]\n",
      "Shape  3 :  [0 0 5 0 0]\n",
      "Shape  4 :  [0 0 5 0 0]\n"
     ]
    }
   ],
   "source": [
    "test_size = 5\n",
    "#mlp.W = best_weights\n",
    "noise_percent = np.linspace(0, 100, num=11, dtype = int)\n",
    "test_shapes = np.repeat(shapes, test_size, axis=0)\n",
    "test_answers = np.repeat([i for i in range(shapes.shape[0])], test_size) \n",
    "\n",
    "for noise in noise_percent:\n",
    "    noise_test_shapes = make_noise(test_shapes, noise)\n",
    "    test_dst = noise_test_shapes\n",
    "    test_pred = get_test_stats(mlp, test_dst)\n",
    "    print('Percent of noise:', noise)\n",
    "    for sh in range(shapes.shape[0]):\n",
    "        print('Shape ', sh, ': ', np.bincount(test_pred[sh*test_size:sh*test_size+test_size], minlength=shapes.shape[0]))\n",
    "    "
   ]
  },
  {
   "cell_type": "code",
   "execution_count": null,
   "metadata": {
    "collapsed": true
   },
   "outputs": [],
   "source": []
  }
 ],
 "metadata": {
  "kernelspec": {
   "display_name": "Python 3",
   "language": "python",
   "name": "python3"
  },
  "language_info": {
   "codemirror_mode": {
    "name": "ipython",
    "version": 3
   },
   "file_extension": ".py",
   "mimetype": "text/x-python",
   "name": "python",
   "nbconvert_exporter": "python",
   "pygments_lexer": "ipython3",
   "version": "3.6.8"
  }
 },
 "nbformat": 4,
 "nbformat_minor": 2
}
