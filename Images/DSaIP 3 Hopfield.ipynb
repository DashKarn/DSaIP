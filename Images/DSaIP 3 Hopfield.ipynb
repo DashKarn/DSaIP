{
 "cells": [
  {
   "cell_type": "markdown",
   "metadata": {
    "collapsed": true
   },
   "source": [
    "Задание: реализовать простейшую сеть Хопфилда и протестировать на зашумлённых изображениях\n",
    "Изучение темы: http://neupy.com/2015/09/20/discrete_hopfield_network.html\n",
    "Решение: \n",
    "1. создать шаблоны букв 10*10\n",
    "2. настроить веса а сети и написать функции обработки изображений\n",
    "3. получить зашумлённые изображения\n",
    "4. получить на них результаты работы синхронной и асинхронной работы сети\n",
    "5. сравнить результаты\n"
   ]
  },
  {
   "cell_type": "code",
   "execution_count": null,
   "metadata": {
    "collapsed": true
   },
   "outputs": [],
   "source": [
    "import numpy as np\n",
    "import matplotlib.pyplot as plt\n",
    "%matplotlib inline"
   ]
  },
  {
   "cell_type": "code",
   "execution_count": 41,
   "metadata": {
    "collapsed": true
   },
   "outputs": [],
   "source": [
    "letter_a = ['0000110000',\n",
    "            '0001111000',\n",
    "            '0011111100',\n",
    "            '0111001110',\n",
    "            '1110000111',\n",
    "            '1100000011',\n",
    "            '1111111111',\n",
    "            '1111111111',\n",
    "            '1100000011',\n",
    "            '1100000011']\n",
    "letter_t = ['1111111111',\n",
    "            '1111111111',\n",
    "            '0000110000',\n",
    "            '0000110000',\n",
    "            '0000110000',\n",
    "            '0000110000',\n",
    "            '0000110000',\n",
    "            '0000110000',\n",
    "            '0000110000',\n",
    "            '0000110000']\n",
    "letter_k = ['1100011000',\n",
    "            '1100110000',\n",
    "            '1101100000',\n",
    "            '1111000000',\n",
    "            '1110000000',\n",
    "            '1111000000',\n",
    "            '1101100000',\n",
    "            '1100110000',\n",
    "            '1100011000',\n",
    "            '1100001100']\n",
    "letters_templates = [letter_a, letter_t, letter_k]"
   ]
  },
  {
   "cell_type": "code",
   "execution_count": 42,
   "metadata": {},
   "outputs": [
    {
     "name": "stdout",
     "output_type": "stream",
     "text": [
      "(3, 100)\n"
     ]
    }
   ],
   "source": [
    "letters = []\n",
    "for l in letters_templates:\n",
    "    l_list = []\n",
    "    for str_l in l:\n",
    "        str_list = list(map(int, list(str_l)))\n",
    "        str_list = [-1 if lx == 0 else 1 for lx in str_list]\n",
    "        l_list += str_list\n",
    "    letters += [l_list]\n",
    "\n",
    "letters = np.array(letters)\n",
    "print(letters.shape)"
   ]
  },
  {
   "cell_type": "code",
   "execution_count": 189,
   "metadata": {
    "collapsed": true
   },
   "outputs": [],
   "source": [
    "class Network:\n",
    "    def __init__(self, templates, n_cycles):\n",
    "        self.n_cycles = n_cycles\n",
    "        self.templates = templates\n",
    "        self.n_templates = templates.shape[0]\n",
    "        self.n_neurons = templates.shape[1]\n",
    "        self.W = np.zeros((self.n_neurons, self.n_neurons))\n",
    "        \n",
    "        for template in templates:\n",
    "            self.W += np.outer(template, template)\n",
    "        np.fill_diagonal(self.W, 0)\n",
    "        self.W = self.W / self.n_templates\n",
    "        \n",
    "    def energy(self, image):\n",
    "        return -0.5 * image.T.dot(self.W.dot(image))\n",
    "    \n",
    "    def compare(self, image):\n",
    "        for i, temp in enumerate(self.templates):\n",
    "            if np.array_equal(temp, image):\n",
    "                return i\n",
    "        return -1\n",
    "    \n",
    "    def synchronous_predict(self, images):\n",
    "        images_new = []\n",
    "        predictions = []\n",
    "        for image in images:\n",
    "            e = self.energy(image)\n",
    "            s = image\n",
    "            for i in range(self.n_cycles):\n",
    "                s = self.W.dot(s)\n",
    "                s = np.array([-1 if lx < 0 else 1 for lx in s])\n",
    "                e_new = self.energy(s)\n",
    "                if e == e_new:\n",
    "                    images_new += [s]\n",
    "                    predictions += [self.compare(s)]\n",
    "                    break\n",
    "                e = e_new\n",
    "            if i == self.n_cycles-1:\n",
    "                images_new += [s]\n",
    "                predictions += [-1]\n",
    "        return np.array(images_new), np.array(predictions)\n",
    "                \n",
    "            \n",
    "    def asynchronous_predict(self, images): \n",
    "        images_new = []\n",
    "        predictions = []\n",
    "        for image in images:\n",
    "            e = self.energy(image)\n",
    "            s = image\n",
    "            for i in range(self.n_cycles):\n",
    "                for j in range(400):\n",
    "                    idx = np.random.randint(0, self.n_neurons)\n",
    "                    s[idx] = -1 if self.W[idx].T.dot(s) < 0 else 1\n",
    "                e_new = self.energy(s)\n",
    "                if e == e_new:\n",
    "                    images_new += [s]\n",
    "                    predictions += [self.compare(s)]\n",
    "                    break\n",
    "                e = e_new\n",
    "            if i == self.n_cycles-1:\n",
    "                images_new += [s]\n",
    "                predictions += [-1]\n",
    "        return np.array(images_new), np.array(predictions)"
   ]
  },
  {
   "cell_type": "code",
   "execution_count": 183,
   "metadata": {
    "collapsed": true
   },
   "outputs": [],
   "source": [
    "def plot_images(images, width = 10):\n",
    "    shape = int(np.sqrt(images.shape[1]))\n",
    "    fig, ax1 = plt.subplots(len(images)//width, width, figsize=(2, 2), sharex = True, sharey = True)\n",
    "    if len(images)//width > 1:\n",
    "        for num, im in enumerate(images):\n",
    "            ax1[num//width, num%width].imshow(im.reshape((shape, shape)), cmap = 'gray')\n",
    "    else:\n",
    "        for num, im in enumerate(images):\n",
    "            ax1[num%width].imshow(im.reshape((shape, shape)), cmap = 'gray')\n",
    "    \n",
    "    plt.show()\n"
   ]
  },
  {
   "cell_type": "code",
   "execution_count": 134,
   "metadata": {},
   "outputs": [
    {
     "data": {
      "image/png": "[encoded data removed]",
      "text/plain": [
       "<Figure size 720x288 with 3 Axes>"
      ]
     },
     "metadata": {},
     "output_type": "display_data"
    }
   ],
   "source": [
    "plot_images(letters, 3)"
   ]
  },
  {
   "cell_type": "code",
   "execution_count": 139,
   "metadata": {
    "collapsed": true
   },
   "outputs": [],
   "source": [
    "def make_noise(images, noise_percent):\n",
    "    size = images.shape[1]\n",
    "    a = np.arange(size)\n",
    "    images_new = []\n",
    "    for image in images:\n",
    "        np.random.shuffle(a)\n",
    "        randoms = a[:size*noise_percent//100]\n",
    "        image = np.array([-i if pos in randoms else i for pos, i in enumerate(image)])\n",
    "        images_new += [image]\n",
    "    return np.array(images_new)"
   ]
  },
  {
   "cell_type": "code",
   "execution_count": 202,
   "metadata": {
    "collapsed": true
   },
   "outputs": [],
   "source": [
    "test_size = 10\n",
    "net = Network(letters, 5)\n",
    "noise_percent = np.linspace(0, 100, num=21, dtype = int)\n",
    "test_letters = np.repeat(letters, test_size, axis=0)\n",
    "test_answers = np.repeat([0, 1, 2], 10)\n",
    "s_accuracy = []\n",
    "a_accuracy = []\n",
    "for noise in noise_percent:\n",
    "    noise_test_letters = make_noise(test_letters, noise)\n",
    "    predicted_images, predictions = net.synchronous_predict(noise_test_letters)\n",
    "    s_accuracy += [(test_answers == predictions).sum()/(test_size*letters.shape[0])]\n",
    "    predicted_images, predictions = net.asynchronous_predict(noise_test_letters)\n",
    "    a_accuracy += [(test_answers == predictions).sum()/(test_size*letters.shape[0])]   \n"
   ]
  },
  {
   "cell_type": "code",
   "execution_count": 203,
   "metadata": {},
   "outputs": [
    {
     "data": {
      "image/png": "[encoded data removed]",
      "text/plain": [
       "<Figure size 432x288 with 1 Axes>"
      ]
     },
     "metadata": {},
     "output_type": "display_data"
    }
   ],
   "source": [
    "plt.plot(noise_percent, s_accuracy, c = 'b', label = 'synch')\n",
    "plt.plot(noise_percent, a_accuracy, c = 'r', label = 'asynch')\n",
    "plt.title('Prediction')\n",
    "plt.xlabel('Percent of noise')\n",
    "plt.ylabel('Accuracy')\n",
    "plt.legend(loc='upper right')\n",
    "plt.xticks(noise_percent)\n",
    "plt.show()"
   ]
  },
  {
   "cell_type": "code",
   "execution_count": null,
   "metadata": {
    "collapsed": true
   },
   "outputs": [],
   "source": []
  }
 ],
 "metadata": {
  "kernelspec": {
   "display_name": "Python 3",
   "language": "python",
   "name": "python3"
  },
  "language_info": {
   "codemirror_mode": {
    "name": "ipython",
    "version": 3
   },
   "file_extension": ".py",
   "mimetype": "text/x-python",
   "name": "python",
   "nbconvert_exporter": "python",
   "pygments_lexer": "ipython3",
   "version": "3.6.8"
  }
 },
 "nbformat": 4,
 "nbformat_minor": 2
}
