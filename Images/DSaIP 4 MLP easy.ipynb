{
 "cells": [
  {
   "cell_type": "code",
   "execution_count": 1,
   "metadata": {
    "collapsed": true
   },
   "outputs": [],
   "source": [
    "import numpy as np\n",
    "import matplotlib.pyplot as plt\n",
    "%matplotlib inline"
   ]
  },
  {
   "cell_type": "code",
   "execution_count": 2,
   "metadata": {
    "collapsed": true
   },
   "outputs": [],
   "source": [
    "letters_shapes = [\n",
    "         ['111111',\n",
    "          '001100',\n",
    "          '001100',\n",
    "          '001100',\n",
    "          '001100',\n",
    "          '001100'],\n",
    "         ['100001',\n",
    "          '010010',\n",
    "          '001100',\n",
    "          '001100',\n",
    "          '010010',\n",
    "          '100001'],\n",
    "         ['001100',\n",
    "          '010010',\n",
    "          '100001',\n",
    "          '100001',\n",
    "          '010010',\n",
    "          '001100'],\n",
    "         ['111111',\n",
    "          '100001',\n",
    "          '100001',\n",
    "          '100001',\n",
    "          '100001',\n",
    "          '111111'],\n",
    "         ['001100',\n",
    "          '001100',\n",
    "          '110011',\n",
    "          '110011',\n",
    "          '001100',\n",
    "          '001100']]"
   ]
  },
  {
   "cell_type": "code",
   "execution_count": 3,
   "metadata": {},
   "outputs": [
    {
     "name": "stdout",
     "output_type": "stream",
     "text": [
      "(5, 36)\n"
     ]
    }
   ],
   "source": [
    "shapes = []\n",
    "for l in letters_shapes:\n",
    "    l_list = []\n",
    "    for str_l in l:\n",
    "        str_list = list(map(int, list(str_l)))\n",
    "        l_list += str_list\n",
    "    shapes += [l_list]\n",
    "\n",
    "shapes = np.array(shapes)\n",
    "print(shapes.shape)"
   ]
  },
  {
   "cell_type": "code",
   "execution_count": 4,
   "metadata": {
    "collapsed": true
   },
   "outputs": [],
   "source": [
    "def plot_images(images):\n",
    "    shape = int(np.sqrt(images.shape[1]))\n",
    "    fig, ax1 = plt.subplots(1, len(images), figsize=(3, 3), sharex = True, sharey = True)\n",
    "    for num, im in enumerate(images):\n",
    "        ax1[num].imshow(im.reshape((shape, shape)), cmap = 'gray')\n",
    "    \n",
    "    plt.show()"
   ]
  },
  {
   "cell_type": "code",
   "execution_count": 5,
   "metadata": {},
   "outputs": [
    {
     "data": {
      "image/png": "[encoded data removed]",
      "text/plain": [
       "<Figure size 216x216 with 5 Axes>"
      ]
     },
     "metadata": {},
     "output_type": "display_data"
    }
   ],
   "source": [
    "plot_images(shapes)"
   ]
  },
  {
   "cell_type": "code",
   "execution_count": 6,
   "metadata": {
    "collapsed": true
   },
   "outputs": [],
   "source": [
    "def make_noise(images, noise_percent):\n",
    "    size = images.shape[1]\n",
    "    a = np.arange(size)\n",
    "    images_new = []\n",
    "    for image in images:\n",
    "        np.random.shuffle(a)\n",
    "        randoms = a[:int(size*noise_percent/100)]\n",
    "        image = np.array([not(i) if pos in randoms else i for pos, i in enumerate(image)])\n",
    "        images_new += [image]\n",
    "    return np.array(images_new)"
   ]
  },
  {
   "cell_type": "code",
   "execution_count": 7,
   "metadata": {
    "collapsed": true
   },
   "outputs": [],
   "source": [
    "class Activation(object):\n",
    "\n",
    "    \"\"\"\n",
    "    Interface for activation functions (non-linearities).\n",
    "    In all implementations, the state attribute must contain the result, i.e. the output of forward (it will be tested).\n",
    "    \"\"\"\n",
    "\n",
    "    def __init__(self):\n",
    "        self.state = None\n",
    "    def __call__(self, x):\n",
    "        return self.forward(x)\n",
    "    def forward(self, x):\n",
    "        raise NotImplementedError\n",
    "    def derivative(self):\n",
    "        raise NotImplementedError\n",
    "\n",
    "\n",
    "class Sigmoid(Activation):\n",
    "\n",
    "    \"\"\"\n",
    "    Sigmoid non-linearity\n",
    "    \"\"\"\n",
    "\n",
    "    def __init__(self):\n",
    "        super(Sigmoid, self).__init__()\n",
    "    def forward(self, x):\n",
    "        self.X = x\n",
    "        self.state_x = 1 / (1 + np.exp(-x))\n",
    "        return self.state_x\n",
    "    def derivative(self):\n",
    "        return self.state_x * (1 - self.state_x)\n",
    "\n",
    "class ReLU(Activation):\n",
    "\n",
    "    \"\"\"\n",
    "    ReLU non-linearity\n",
    "    \"\"\"\n",
    "\n",
    "    def __init__(self):\n",
    "        super(ReLU, self).__init__()\n",
    "    def forward(self, x):\n",
    "        self.X = x\n",
    "        self.state_x = np.maximum(0, x)\n",
    "        return self.state_x\n",
    "    def derivative(self):\n",
    "        return np.where(self.X <= 0, 0., 1.)\n",
    "\n",
    "class Entropy():\n",
    "    def __init__(self):\n",
    "        self.logits = None\n",
    "        self.labels = None\n",
    "        self.e = None \n",
    "        \n",
    "    def __call__(self, x, y):\n",
    "        return self.forward(x, y)       \n",
    "        \n",
    "    def forward(self, x, y):\n",
    "        self.logits = x\n",
    "        self.labels = y\n",
    "       \n",
    "        self.e = np.sum((self.labels - self.logits)**2)/2\n",
    "        return self.e\n",
    "    \n",
    "    def derivative(self):\n",
    "        return self.labels - self.logits"
   ]
  },
  {
   "cell_type": "code",
   "execution_count": 22,
   "metadata": {
    "collapsed": true
   },
   "outputs": [],
   "source": [
    "class MLP(object):\n",
    "\n",
    "    \"\"\"\n",
    "    A simple multilayer perceptron\n",
    "    \"\"\"\n",
    "\n",
    "    def __init__(self, input_size, output_size, hidden_size, activations, weight_init_fn, bias_init_fn, criterion, lr):\n",
    "\n",
    "        self.train_mode = True\n",
    "        self.input_size = input_size\n",
    "        self.hidden_size = hidden_size\n",
    "        self.output_size = output_size\n",
    "        self.activations = activations\n",
    "        self.criterion = criterion\n",
    "        self.lr = lr\n",
    "        # <---------------------\n",
    "\n",
    "        self.W1 = weight_init_fn(self.input_size, self.hidden_size)\n",
    "        self.dW1 = np.zeros_like(self.W1)\n",
    "        self.b1 = bias_init_fn(self.hidden_size)\n",
    "        self.db1 = np.zeros_like(self.b1)\n",
    "        \n",
    "        self.W2 = weight_init_fn(self.hidden_size, self.output_size)\n",
    "        self.dW2 = np.zeros_like(self.W2)\n",
    "        self.b2 = bias_init_fn(self.output_size)\n",
    "        self.db2 = np.zeros_like(self.b2)\n",
    "\n",
    "        self.layer1_input = None\n",
    "        #self.layer1_output = None\n",
    "        self.layer2_input = None\n",
    "        #self.layer2_output = None\n",
    "        self.prediction = None\n",
    "        self.loss = None\n",
    "\n",
    "    def forward(self, x):\n",
    "        self.layer1_input = x\n",
    "        z = np.dot(self.layer1_input, self.W1) + self.b1\n",
    "        y = self.activations[0](z)\n",
    "        #self.layer1_output = z\n",
    "        self.layer2_input = y\n",
    "        \n",
    "        z = np.dot(self.layer2_input, self.W2) + self.b2\n",
    "        y = self.activations[1](z)\n",
    "        #self.layer2_output = z\n",
    "        self.prediction = y\n",
    "\n",
    "        return y        \n",
    "\n",
    "    def step(self):\n",
    "        \n",
    "        if self.train_mode:\n",
    "            # update weights\n",
    "            self.W1 += self.lr * self.dW1\n",
    "            self.W2 += self.lr * self.dW2\n",
    "            # update biases\n",
    "            self.b1 += self.lr * self.db1\n",
    "            self.b2 += self.lr * self.db2\n",
    "\n",
    "    def backward(self, label):\n",
    "\n",
    "        # calculate criterion to get divergence (diff with actual labels)\n",
    "        self.loss = self.criterion(self.prediction, label)\n",
    "        div = self.criterion.derivative()\n",
    "        \n",
    "        dz = self.activations[1].derivative() * div\n",
    "        self.dW2 = np.outer([self.layer2_input], dz)\n",
    "        self.db2 = dz\n",
    "        div = np.dot(dz, self.dW2.T)\n",
    "        \n",
    "        dz = self.activations[0].derivative() * div\n",
    "        self.dW1 = np.outer([self.layer1_input], dz)\n",
    "        self.db1 = dz\n",
    "        \n",
    "        return div\n",
    "\n",
    "    def __call__(self, x):\n",
    "        return self.forward(x)\n",
    "\n",
    "    def train(self):\n",
    "        self.train_mode = True\n",
    "\n",
    "    def evaluate(self):\n",
    "        self.train_mode = False\n"
   ]
  },
  {
   "cell_type": "code",
   "execution_count": 9,
   "metadata": {
    "collapsed": true
   },
   "outputs": [],
   "source": [
    "def random_normal_weight_init(d0, d1):\n",
    "    return np.random.randn(d0, d1)\n",
    "\n",
    "def zeros_bias_init(d):\n",
    "    return np.zeros((1, d))"
   ]
  },
  {
   "cell_type": "code",
   "execution_count": 10,
   "metadata": {
    "collapsed": true
   },
   "outputs": [],
   "source": [
    "def get_test_stats(mlp, test_x, test_y):\n",
    "    mlp.evaluate()\n",
    "    objects_num = len(np.unique(test_y))\n",
    "    test_y_onehot = np.eye(objects_num)[test_y]\n",
    "    errores = loses = 0\n",
    "    for txb in range(len(test_y)):\n",
    "        score = mlp.forward(test_x[txb])\n",
    "        mlp.backward(test_y_onehot[txb])\n",
    "        errores += test_y[txb] != np.argmax(score)\n",
    "        loses += mlp.loss\n",
    "\n",
    "    test_loss = loses / len(test_y)\n",
    "    test_error = errores / len(test_y)\n",
    "    return (test_loss, test_error)"
   ]
  },
  {
   "cell_type": "code",
   "execution_count": 11,
   "metadata": {
    "collapsed": true
   },
   "outputs": [],
   "source": [
    "def get_training_stats(mlp, train_dset, val_dset, nepochs):\n",
    "\n",
    "    trainx, trainy = train_dset\n",
    "    valx, valy = val_dset\n",
    "    objects_num = len(np.unique(trainy))\n",
    "    objects_ls = np.arange(len(trainx))\n",
    "\n",
    "    best_validation_loss = 2\n",
    "    best_validation_error = 1\n",
    "    best_epoch = 0\n",
    "    best_weights = [mlp.W1, mlp.W2]\n",
    "    best_biases = [mlp.b1, mlp.b2]\n",
    "    \n",
    "    training_losses = []\n",
    "    training_errors = []\n",
    "    validation_similarities = []\n",
    "    validation_losses = []\n",
    "    validation_errors = []\n",
    "\n",
    "    # Setup ...\n",
    "    for e in range(nepochs):\n",
    "\n",
    "        # Per epoch setup ...\n",
    "        training_loss = validation_loss = 0\n",
    "        training_error = validation_error = 0\n",
    "        training_loss = loses = 0\n",
    "        training_error = errores = 0\n",
    "        \n",
    "        np.random.shuffle(objects_ls)\n",
    "        trainx, trainy = trainx[objects_ls], trainy[objects_ls]\n",
    "        \n",
    "        mlp.train()\n",
    "        for txb in range(len(trainx)):\n",
    "\n",
    "            train_x, train_y = trainx[txb], trainy[txb]\n",
    "            train_y_onehot = np.eye(objects_num)[train_y]\n",
    "\n",
    "            score = mlp.forward(train_x)\n",
    "            mlp.backward(train_y_onehot)\n",
    "\n",
    "            training_loss += mlp.loss\n",
    "            training_error += train_y != np.argmax(score)\n",
    "\n",
    "            # SGD\n",
    "            mlp.step()\n",
    "\n",
    "        training_losses.append(training_loss / len(trainx))\n",
    "        training_errors.append(training_error / len(trainx))\n",
    "\n",
    "        # Validate\n",
    "        mlp.evaluate()\n",
    "\n",
    "        val_y_onehot = np.eye(objects_num)[valy]\n",
    "        for vxb in range(len(valy)):\n",
    "            score = mlp.forward(valx[vxb])\n",
    "            mlp.backward(val_y_onehot[vxb])\n",
    "            errores += valy[vxb] != np.argmax(score)\n",
    "            loses += mlp.loss\n",
    "\n",
    "        validation_loss = loses / len(valy)\n",
    "        validation_error = errores / len(valy)\n",
    "        if (validation_error<best_validation_error) & (validation_loss<best_validation_loss):\n",
    "            best_validation_error = validation_error\n",
    "            best_validation_loss = validation_loss\n",
    "            best_epoch = e\n",
    "            best_weights = [mlp.W1, mlp.W2]\n",
    "            best_biases = [mlp.b1, mlp.b2]\n",
    "\n",
    "        validation_losses.append(validation_loss)\n",
    "        validation_errors.append(validation_error)\n",
    "\n",
    "    return (training_losses, training_errors, validation_similarities, validation_losses, validation_errors, \\\n",
    "            best_validation_error, best_validation_loss, best_epoch, best_weights, best_biases)\n"
   ]
  },
  {
   "cell_type": "code",
   "execution_count": 62,
   "metadata": {
    "collapsed": true
   },
   "outputs": [],
   "source": [
    "mlp = MLP(input_size = shapes.shape[1], \\\n",
    "          output_size = shapes.shape[0], \\\n",
    "          hidden_size = 45, \\\n",
    "          activations = [Sigmoid(), Sigmoid()], \\\n",
    "          weight_init_fn = random_normal_weight_init, \\\n",
    "          bias_init_fn = zeros_bias_init, \\\n",
    "          criterion = Entropy(), \\\n",
    "          lr=0.6)"
   ]
  },
  {
   "cell_type": "code",
   "execution_count": 63,
   "metadata": {},
   "outputs": [],
   "source": [
    "n_epochs = 20\n",
    "train_size = 5\n",
    "train_shapes = make_noise(np.repeat(shapes, train_size, axis=0), 3) #one bit\n",
    "train_answers = np.repeat([i for i in range(shapes.shape[0])], train_size)\n",
    "train_shapes = [train_shapes, train_answers]\n",
    "val_size = 3\n",
    "val_shapes = make_noise(np.repeat(shapes, val_size, axis=0), 6)\n",
    "val_answers = np.repeat([i for i in range(shapes.shape[0])], val_size)\n",
    "val_shapes = [val_shapes, val_answers]\n",
    "train_loss, train_err, val_sim, val_loss, val_err, best_err, best_loss, best_epoch, best_weights, best_biases = get_training_stats(mlp, train_shapes, val_shapes, n_epochs)"
   ]
  },
  {
   "cell_type": "code",
   "execution_count": 64,
   "metadata": {},
   "outputs": [
    {
     "name": "stdout",
     "output_type": "stream",
     "text": [
      "The best error  0.0\n",
      "The best loss  0.10126976355854375\n",
      "The best epoch  10\n"
     ]
    },
    {
     "data": {
      "image/png": "[encoded data removed]",
      "text/plain": [
       "<Figure size 432x288 with 1 Axes>"
      ]
     },
     "metadata": {},
     "output_type": "display_data"
    },
    {
     "data": {
      "image/png": "[encoded data removed]",
      "text/plain": [
       "<Figure size 432x288 with 1 Axes>"
      ]
     },
     "metadata": {},
     "output_type": "display_data"
    }
   ],
   "source": [
    "print(\"The best error \", best_err)\n",
    "print(\"The best loss \", best_loss)\n",
    "print(\"The best epoch \", best_epoch)\n",
    "epochs = [i for i in range(n_epochs)]\n",
    "plt.plot(epochs, train_loss, c = 'b', label = 'train_loss')\n",
    "plt.plot(epochs, val_loss, c = 'r', label = 'val_loss')\n",
    "plt.title('Loss')\n",
    "plt.xlabel('Epoch')\n",
    "plt.ylabel('Loss')\n",
    "plt.legend(loc='upper right')\n",
    "plt.xticks(epochs)\n",
    "plt.show()\n",
    "\n",
    "fig, ax = plt.subplots()\n",
    "ax.plot(epochs, train_err, c = 'b', label = 'train_err')\n",
    "ax.plot(epochs, val_err, c = 'r', label = 'val_err')\n",
    "ax.set_title('Errors')\n",
    "ax.set_xlabel('Epoch')\n",
    "ax.set_ylabel('Errors')\n",
    "ax.legend(loc='upper right')\n",
    "ax.set_ylim(0, 1)\n",
    "plt.show()"
   ]
  },
  {
   "cell_type": "code",
   "execution_count": 65,
   "metadata": {},
   "outputs": [
    {
     "data": {
      "image/png": "[encoded data removed]",
      "text/plain": [
       "<Figure size 432x288 with 1 Axes>"
      ]
     },
     "metadata": {},
     "output_type": "display_data"
    }
   ],
   "source": [
    "test_size = 4 \n",
    "mlp.W1, mlp.W2 = best_weights\n",
    "mlp.b1, mlp.b2 = best_biases\n",
    "noise_percent = np.linspace(0, 100, num=21, dtype = int)\n",
    "test_shapes = np.repeat(shapes, test_size, axis=0)\n",
    "test_answers = np.repeat([i for i in range(shapes.shape[0])], test_size) \n",
    "\n",
    "test_losses = []\n",
    "test_errors = []\n",
    "for noise in noise_percent:\n",
    "    noise_test_shapes = make_noise(test_shapes, noise)\n",
    "    test_loss, test_error = get_test_stats(mlp, noise_test_shapes, test_answers)\n",
    "    test_losses.append([test_loss])\n",
    "    test_errors.append([test_error])\n",
    "\n",
    "fig, ax = plt.subplots()\n",
    "#plt.plot(noise_percent, test_losses, c = 'b', label = 'test_losses')\n",
    "ax.plot(noise_percent, test_errors, c = 'r', label = 'test_errors')\n",
    "ax.set_title('Testing')\n",
    "ax.set_xlabel('Noise percent')\n",
    "ax.set_ylabel('Errors')\n",
    "ax.legend(loc='upper right')\n",
    "ax.set_ylim(0, 1)\n",
    "plt.show()"
   ]
  },
  {
   "cell_type": "code",
   "execution_count": null,
   "metadata": {
    "collapsed": true
   },
   "outputs": [],
   "source": []
  },
  {
   "cell_type": "code",
   "execution_count": null,
   "metadata": {
    "collapsed": true
   },
   "outputs": [],
   "source": []
  }
 ],
 "metadata": {
  "kernelspec": {
   "display_name": "Python 3",
   "language": "python",
   "name": "python3"
  },
  "language_info": {
   "codemirror_mode": {
    "name": "ipython",
    "version": 3
   },
   "file_extension": ".py",
   "mimetype": "text/x-python",
   "name": "python",
   "nbconvert_exporter": "python",
   "pygments_lexer": "ipython3",
   "version": "3.6.8"
  }
 },
 "nbformat": 4,
 "nbformat_minor": 2
}
