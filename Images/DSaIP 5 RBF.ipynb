{
 "cells": [
  {
   "cell_type": "code",
   "execution_count": 1,
   "metadata": {
    "collapsed": true
   },
   "outputs": [],
   "source": [
    "import numpy as np\n",
    "import matplotlib.pyplot as plt\n",
    "%matplotlib inline"
   ]
  },
  {
   "cell_type": "code",
   "execution_count": 2,
   "metadata": {
    "collapsed": true
   },
   "outputs": [],
   "source": [
    "letters_shapes = [['111111',\n",
    "          '001100',\n",
    "          '001100',\n",
    "          '001100',\n",
    "          '001100',\n",
    "          '001100'],\n",
    "         ['100001',\n",
    "          '010010',\n",
    "          '001100',\n",
    "          '001100',\n",
    "          '010010',\n",
    "          '100001'],\n",
    "         ['001100',\n",
    "          '010010',\n",
    "          '100001',\n",
    "          '100001',\n",
    "          '010010',\n",
    "          '001100'],\n",
    "         ['111111',\n",
    "          '100001',\n",
    "          '100001',\n",
    "          '100001',\n",
    "          '100001',\n",
    "          '111111'],\n",
    "         ['001100',\n",
    "          '001100',\n",
    "          '110011',\n",
    "          '110011',\n",
    "          '001100',\n",
    "          '001100']]"
   ]
  },
  {
   "cell_type": "code",
   "execution_count": 3,
   "metadata": {},
   "outputs": [
    {
     "name": "stdout",
     "output_type": "stream",
     "text": [
      "(5, 36)\n"
     ]
    }
   ],
   "source": [
    "shapes = []\n",
    "for l in letters_shapes:\n",
    "    l_list = []\n",
    "    for str_l in l:\n",
    "        str_list = list(map(int, list(str_l)))\n",
    "        l_list += str_list\n",
    "    shapes += [l_list]\n",
    "\n",
    "shapes = np.array(shapes)\n",
    "print(shapes.shape)"
   ]
  },
  {
   "cell_type": "code",
   "execution_count": 4,
   "metadata": {
    "collapsed": true
   },
   "outputs": [],
   "source": [
    "def plot_images(images):\n",
    "    shape = int(np.sqrt(images.shape[1]))\n",
    "    fig, ax1 = plt.subplots(1, len(images), figsize=(3, 3), sharex = True, sharey = True)\n",
    "    for num, im in enumerate(images):\n",
    "        ax1[num].imshow(im.reshape((shape, shape)), cmap = 'gray')\n",
    "    \n",
    "    plt.show()"
   ]
  },
  {
   "cell_type": "code",
   "execution_count": 5,
   "metadata": {},
   "outputs": [
    {
     "data": {
      "image/png": "[encoded data removed]",
      "text/plain": [
       "<Figure size 216x216 with 5 Axes>"
      ]
     },
     "metadata": {},
     "output_type": "display_data"
    }
   ],
   "source": [
    "plot_images(shapes)"
   ]
  },
  {
   "cell_type": "code",
   "execution_count": 6,
   "metadata": {
    "collapsed": true
   },
   "outputs": [],
   "source": [
    "def make_noise(images, noise_percent):\n",
    "    size = images.shape[1]\n",
    "    a = np.arange(size)\n",
    "    images_new = []\n",
    "    for image in images:\n",
    "        np.random.shuffle(a)\n",
    "        randoms = a[:int(size*noise_percent/100)]\n",
    "        image = np.array([not(i) if pos in randoms else i for pos, i in enumerate(image)])\n",
    "        images_new += [image]\n",
    "    return np.array(images_new)"
   ]
  },
  {
   "cell_type": "code",
   "execution_count": 7,
   "metadata": {
    "collapsed": true
   },
   "outputs": [],
   "source": [
    "class Activation(object):\n",
    "\n",
    "    \"\"\"\n",
    "    Interface for activation functions (non-linearities).\n",
    "    In all implementations, the state attribute must contain the result, i.e. the output of forward (it will be tested).\n",
    "    \"\"\"\n",
    "\n",
    "    def __init__(self):\n",
    "        self.state = None\n",
    "    def __call__(self, x):\n",
    "        return self.forward(x)\n",
    "    def forward(self, x):\n",
    "        raise NotImplementedError\n",
    "    def derivative(self):\n",
    "        raise NotImplementedError\n",
    "\n",
    "class Identity(Activation):\n",
    "\n",
    "    \"\"\"\n",
    "    Identity function (already implemented).\n",
    "    \"\"\"\n",
    "    \n",
    "    def __init__(self):\n",
    "        super(Identity, self).__init__()\n",
    "    def forward(self, x):\n",
    "        self.state = x\n",
    "        return x\n",
    "    def derivative(self):\n",
    "        return 1.0\n",
    "\n",
    "class ReLU(Activation):\n",
    "\n",
    "    \"\"\"\n",
    "    ReLU non-linearity\n",
    "    \"\"\"\n",
    "\n",
    "    def __init__(self):\n",
    "        super(ReLU, self).__init__()\n",
    "    def forward(self, x):\n",
    "        self.X = x\n",
    "        self.state = np.maximum(0, x)\n",
    "        return self.state\n",
    "    def derivative(self):\n",
    "        return np.where(self.X <= 0, 0., 1.)\n",
    "\n",
    "class Criterion(object):\n",
    "\n",
    "    \"\"\"\n",
    "    Interface for loss functions.\n",
    "    \"\"\"\n",
    "\n",
    "    def __init__(self):\n",
    "        self.logits = None\n",
    "        self.labels = None\n",
    "        self.loss = None\n",
    "    def __call__(self, x, y):\n",
    "        return self.forward(x, y)\n",
    "    def forward(self, x, y):\n",
    "        raise NotImplementedError\n",
    "    def derivative(self):\n",
    "        raise NotImplementedError\n",
    "\n",
    "\n",
    "class SoftmaxCrossEntropy(Criterion):\n",
    "\n",
    "    \"\"\"\n",
    "    Softmax loss\n",
    "    \"\"\"\n",
    "\n",
    "    def __init__(self):\n",
    "        super(SoftmaxCrossEntropy, self).__init__()\n",
    "        self.sm = None\n",
    "        \n",
    "    def forward(self, x, y):\n",
    "        self.logits = x\n",
    "        self.labels = y\n",
    "        # one-hot Y into regular class number\n",
    "        class_num = y.argmax(axis=1)\n",
    "        examples = class_num.shape[0]\n",
    "        # softmax\n",
    "        e = np.exp(x - np.max(x))  # LogExpTrick\n",
    "        self.sm = e / np.sum(e, axis=1, keepdims=True)\n",
    "        # cross entropy\n",
    "        entropy = -np.log(self.sm[range(examples), class_num])\n",
    "        return entropy\n",
    "    \n",
    "    def derivative(self):\n",
    "        return self.sm - self.labels"
   ]
  },
  {
   "cell_type": "code",
   "execution_count": 13,
   "metadata": {
    "collapsed": true
   },
   "outputs": [],
   "source": [
    "class Network(object):\n",
    "\n",
    "    \"\"\"\n",
    "    sdssdvfv\n",
    "    \"\"\"\n",
    "\n",
    "    def __init__(self, input_size, output_size, activations, weight_init_fn, criterion, lr, rbf_samples):\n",
    "\n",
    "        self.train_mode = True\n",
    "        self.input_size = input_size\n",
    "        self.output_size = output_size\n",
    "        self.activation = activations\n",
    "        self.criterion = criterion\n",
    "        self.lr = lr\n",
    "        self.rbf_samples = rbf_samples\n",
    "        # <---------------------\n",
    "\n",
    "        layer_sizes = (input_size, output_size)\n",
    "\n",
    "        self.W = weight_init_fn(output_size, output_size)\n",
    "        self.dW = np.zeros_like(self.W)\n",
    "        \n",
    "        self.sigma2 = []\n",
    "        for i in range(self.rbf_samples.shape[0]):\n",
    "            dist = 100000\n",
    "            for ii in range(self.rbf_samples.shape[0]):\n",
    "                if i==ii:\n",
    "                    continue\n",
    "                d = np.sum((self.rbf_samples[i] - self.rbf_samples[ii])**2)/4\n",
    "                if dist > d:\n",
    "                    dist = d\n",
    "            self.sigma2.append(dist) \n",
    "        self.sigma2 = np.array(self.sigma2)\n",
    "\n",
    "    def forward(self, x):\n",
    "        \n",
    "        self.x = x\n",
    "        dist = np.array([self.x - sample for sample in self.rbf_samples]) ** 2\n",
    "        self.rbf = np.exp(-np.sum(dist, axis=2) / self.sigma2[:,None])\n",
    "        \n",
    "        self.y = np.dot(self.rbf.T, self.W) \n",
    "\n",
    "        return self.y\n",
    "\n",
    "    def zero_grads(self):\n",
    "            self.activation.state = None\n",
    "        \n",
    "\n",
    "    def step(self):\n",
    "        \n",
    "        if self.train_mode:\n",
    "        # update weight\n",
    "            self.W -= self.lr * self.dW\n",
    "\n",
    "    def backward(self, labels):\n",
    "        \n",
    "        num_samples = self.x.shape[0]\n",
    "        predictions = self.y\n",
    "\n",
    "        # calculate criterion to get divergence (diff with actual labels)\n",
    "        self.loss = self.criterion(predictions, labels)\n",
    "        dz = self.criterion.derivative()\n",
    "        self.dW = np.dot(self.rbf, dz) / num_samples\n",
    "\n",
    "        return \n",
    "\n",
    "    def __call__(self, x):\n",
    "        return self.forward(x)\n",
    "\n",
    "    def train(self):\n",
    "        self.train_mode = True\n",
    "\n",
    "    def evaluate(self):\n",
    "        self.train_mode = False\n"
   ]
  },
  {
   "cell_type": "code",
   "execution_count": 9,
   "metadata": {
    "collapsed": true
   },
   "outputs": [],
   "source": [
    "def random_normal_weight_init(d0, d1):\n",
    "    return np.random.randn(d0, d1)\n",
    "\n",
    "def constant_weight_init(d0, d1):\n",
    "    return np.full(shape=(d0, d1), fill_value=0.15)"
   ]
  },
  {
   "cell_type": "code",
   "execution_count": 10,
   "metadata": {
    "collapsed": true
   },
   "outputs": [],
   "source": [
    "def get_test_stats(mlp, test_dst):\n",
    "    mlp.evaluate()\n",
    "    test_x, test_y = test_dst\n",
    "    objects_num = len(np.unique(test_y))\n",
    "    test_y_onehot = np.eye(objects_num)[test_y]\n",
    "\n",
    "    scores = mlp.forward(test_x)\n",
    "    mlp.backward(test_y_onehot)\n",
    "\n",
    "    test_similarity = scores\n",
    "    test_loss = mlp.loss.mean()\n",
    "    test_error = np.sum(test_y != np.argmax(scores, axis=1))/ len(test_x)\n",
    "    return (test_similarity, test_loss, test_error)"
   ]
  },
  {
   "cell_type": "code",
   "execution_count": 11,
   "metadata": {
    "collapsed": true
   },
   "outputs": [],
   "source": [
    "def get_training_stats(mlp, train_dset, val_dset, batch_size, nepochs):\n",
    "\n",
    "    trainx, trainy = train_dset\n",
    "    valx, valy = val_dset\n",
    "    objects_num = len(np.unique(trainy))\n",
    "    objects_ls = np.arange(len(trainx))\n",
    "\n",
    "    best_validation_loss = 3\n",
    "    best_validation_error = 1\n",
    "    best_epoch = 0\n",
    "    best_weights = mlp.W\n",
    "    \n",
    "    training_losses = []\n",
    "    training_errors = []\n",
    "    validation_similarities = []\n",
    "    validation_losses = []\n",
    "    validation_errors = []\n",
    "\n",
    "    # Setup ...\n",
    "    for e in range(nepochs):\n",
    "\n",
    "        # Per epoch setup ...\n",
    "        training_loss = validation_loss = 0\n",
    "        training_error = validation_error = 0\n",
    "        validation_similarity = []\n",
    "\n",
    "        mlp.train()\n",
    "        np.random.shuffle(objects_ls)\n",
    "        trainx, trainy = trainx[objects_ls], trainy[objects_ls]\n",
    "        \n",
    "        for txb in range(0, len(trainx), batch_size):\n",
    "\n",
    "            train_x, train_y = trainx[txb: txb + batch_size], trainy[txb: txb + batch_size]\n",
    "            train_y_onehot = np.eye(objects_num)[train_y]\n",
    "\n",
    "            mlp.zero_grads()\n",
    "            scores = mlp.forward(train_x)\n",
    "            mlp.backward(train_y_onehot)\n",
    "\n",
    "            training_loss += mlp.loss.mean()\n",
    "            training_error += np.sum(train_y != np.argmax(scores, axis=1))\n",
    "\n",
    "            # SGD\n",
    "            mlp.step()\n",
    "\n",
    "        training_losses.append(training_loss * batch_size / len(trainx))\n",
    "        training_errors.append(training_error / len(trainx))\n",
    "\n",
    "        # Validate\n",
    "        mlp.evaluate()\n",
    "\n",
    "        val_x, val_y = valx, valy\n",
    "        val_y_onehot = np.eye(objects_num)[val_y]\n",
    "\n",
    "        #mlp.zero_grads()\n",
    "        scores = mlp.forward(val_x)\n",
    "        mlp.backward(val_y_onehot)\n",
    "\n",
    "        validation_loss = mlp.loss.mean()\n",
    "        validation_error = np.sum(val_y != np.argmax(scores, axis=1)) / len(valy)\n",
    "        if (validation_error<best_validation_error) & (validation_loss<best_validation_loss):\n",
    "            best_validation_error = validation_error\n",
    "            best_validation_loss = validation_loss\n",
    "            best_epoch = e\n",
    "            best_weights = mlp.W\n",
    "\n",
    "        validation_similarities.append([scores])\n",
    "        validation_losses.append(validation_loss)\n",
    "        validation_errors.append(validation_error)\n",
    "\n",
    "    return (training_losses, training_errors, validation_similarities, validation_losses, validation_errors, \\\n",
    "            best_validation_error, best_validation_loss, best_epoch, best_weights)\n"
   ]
  },
  {
   "cell_type": "code",
   "execution_count": 14,
   "metadata": {},
   "outputs": [],
   "source": [
    "mlp = Network(input_size = shapes.shape[1], \\\n",
    "          output_size = shapes.shape[0], \\\n",
    "          activations = ReLU(), \\\n",
    "          weight_init_fn = random_normal_weight_init, \\\n",
    "          criterion = SoftmaxCrossEntropy(), \\\n",
    "          lr=0.2, \\\n",
    "          rbf_samples = shapes)"
   ]
  },
  {
   "cell_type": "code",
   "execution_count": 15,
   "metadata": {},
   "outputs": [],
   "source": [
    "batch_size = 4\n",
    "n_epochs = 15\n",
    "train_size = 15\n",
    "train_shapes = make_noise(np.repeat(shapes, train_size, axis=0), 3)\n",
    "train_answers = np.repeat([i for i in range(shapes.shape[0])], train_size)\n",
    "train_shapes = [train_shapes, train_answers]\n",
    "val_size = 3\n",
    "val_shapes = make_noise(np.repeat(shapes, val_size, axis=0), 6)\n",
    "val_answers = np.repeat([i for i in range(shapes.shape[0])], val_size)\n",
    "val_shapes = [val_shapes, val_answers]\n",
    "train_loss, train_err, val_sim, val_loss, val_err, best_err, best_loss, best_epoch, best_weights = get_training_stats(mlp, train_shapes, val_shapes,batch_size, n_epochs)"
   ]
  },
  {
   "cell_type": "code",
   "execution_count": 16,
   "metadata": {},
   "outputs": [
    {
     "name": "stdout",
     "output_type": "stream",
     "text": [
      "The best error  0.0\n",
      "The best loss  0.6842228459796225\n",
      "The best epoch  6\n"
     ]
    },
    {
     "data": {
      "image/png": "[encoded data removed]",
      "text/plain": [
       "<Figure size 432x288 with 1 Axes>"
      ]
     },
     "metadata": {},
     "output_type": "display_data"
    },
    {
     "data": {
      "image/png": "[encoded data removed]",
      "text/plain": [
       "<Figure size 432x288 with 1 Axes>"
      ]
     },
     "metadata": {},
     "output_type": "display_data"
    }
   ],
   "source": [
    "print(\"The best error \", best_err)\n",
    "print(\"The best loss \", best_loss)\n",
    "print(\"The best epoch \", best_epoch)\n",
    "epochs = [i for i in range(n_epochs)]\n",
    "plt.plot(epochs, train_loss, c = 'b', label = 'train_loss')\n",
    "plt.plot(epochs, val_loss, c = 'r', label = 'val_loss')\n",
    "plt.title('Loss')\n",
    "plt.xlabel('Epoch')\n",
    "plt.ylabel('Loss')\n",
    "plt.legend(loc='upper right')\n",
    "plt.xticks(epochs)\n",
    "plt.show()\n",
    "\n",
    "fig, ax = plt.subplots()\n",
    "ax.plot(epochs, train_err, c = 'b', label = 'train_err')\n",
    "ax.plot(epochs, val_err, c = 'r', label = 'val_err')\n",
    "ax.set_title('Errors')\n",
    "ax.set_xlabel('Epoch')\n",
    "ax.set_ylabel('Errors')\n",
    "ax.legend(loc='upper right')\n",
    "ax.set_ylim(0, 1)\n",
    "plt.show()"
   ]
  },
  {
   "cell_type": "code",
   "execution_count": 18,
   "metadata": {},
   "outputs": [
    {
     "data": {
      "image/png": "[encoded data removed]",
      "text/plain": [
       "<Figure size 432x288 with 1 Axes>"
      ]
     },
     "metadata": {},
     "output_type": "display_data"
    }
   ],
   "source": [
    "test_size = 4 \n",
    "mlp.W = best_weights\n",
    "noise_percent = np.linspace(0, 100, num=21, dtype = int)\n",
    "test_shapes = np.repeat(shapes, test_size, axis=0)\n",
    "test_answers = np.repeat([i for i in range(shapes.shape[0])], test_size) \n",
    "\n",
    "test_similarities = []\n",
    "test_losses = []\n",
    "test_errors = []\n",
    "for noise in noise_percent:\n",
    "    noise_test_shapes = make_noise(test_shapes, noise)\n",
    "    test_dst = [noise_test_shapes, test_answers]\n",
    "    test_similarity, test_loss, test_error = get_test_stats(mlp, test_dst)\n",
    "    test_similarities.append([test_similarity])\n",
    "    test_losses.append([test_loss])\n",
    "    test_errors.append([test_error])\n",
    "\n",
    "fig, ax = plt.subplots()\n",
    "#plt.plot(noise_percent, test_losses, c = 'b', label = 'test_losses')\n",
    "ax.plot(noise_percent, test_errors, c = 'r', label = 'test_errors')\n",
    "ax.set_title('Testing')\n",
    "ax.set_xlabel('Noise percent')\n",
    "ax.set_ylabel('Errors')\n",
    "ax.legend(loc='upper right')\n",
    "ax.set_ylim(0, 1)\n",
    "plt.show()"
   ]
  },
  {
   "cell_type": "code",
   "execution_count": null,
   "metadata": {
    "collapsed": true
   },
   "outputs": [],
   "source": []
  },
  {
   "cell_type": "code",
   "execution_count": null,
   "metadata": {
    "collapsed": true
   },
   "outputs": [],
   "source": []
  }
 ],
 "metadata": {
  "kernelspec": {
   "display_name": "Python 3",
   "language": "python",
   "name": "python3"
  },
  "language_info": {
   "codemirror_mode": {
    "name": "ipython",
    "version": 3
   },
   "file_extension": ".py",
   "mimetype": "text/x-python",
   "name": "python",
   "nbconvert_exporter": "python",
   "pygments_lexer": "ipython3",
   "version": "3.6.8"
  }
 },
 "nbformat": 4,
 "nbformat_minor": 2
}
